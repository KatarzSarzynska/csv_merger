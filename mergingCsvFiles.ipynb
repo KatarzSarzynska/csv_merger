{
  "metadata": {
    "language_info": {
      "codemirror_mode": {
        "name": "python",
        "version": 3
      },
      "file_extension": ".py",
      "mimetype": "text/x-python",
      "name": "python",
      "nbconvert_exporter": "python",
      "pygments_lexer": "ipython3",
      "version": "3.8"
    },
    "kernelspec": {
      "name": "python",
      "display_name": "Python (Pyodide)",
      "language": "python"
    }
  },
  "nbformat_minor": 4,
  "nbformat": 4,
  "cells": [
    {
      "cell_type": "code",
      "source": "import csv\n#Select file 1\nwith open(\"...example.csv\",\"r\") as file:\n    myReader = csv.reader(file)\n#Select file 2\n    with open(\"...example2.csv\",\"r\") as file2:\n        myReader2 = csv.reader(file2)\n#Create merged file\n        with open(\"...mergedexamples.csv\",\"w\", newline='') as file3:\n            myWriter = csv.writer(file3,delimiter = '-')\n            writer = csv.writer(file3)\n\n            for row in myReader:\n                writer.writerow(row)\n            next(myReader2)\n            for line in myReader2:\n                writer.writerow(line)\n            file3.close()",
      "metadata": {},
      "execution_count": null,
      "outputs": []
    }
  ]
}